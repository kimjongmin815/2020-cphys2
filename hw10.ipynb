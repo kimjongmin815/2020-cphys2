{
 "cells": [
  {
   "cell_type": "markdown",
   "metadata": {},
   "source": [
    "# IMDB Datasets"
   ]
  },
  {
   "cell_type": "code",
   "execution_count": 60,
   "metadata": {},
   "outputs": [],
   "source": [
    "import numpy as np\n",
    "from tensorflow import keras\n",
    "from keras import models \n",
    "from keras import layers\n",
    "import matplotlib.pyplot as plt\n",
    "\n",
    "from keras.datasets import imdb\n",
    "# https://www.imdb.com/\n",
    "(X, y_train), (X_test, y_test) = imdb.load_data(num_words=10000)"
   ]
  },
  {
   "cell_type": "code",
   "execution_count": 61,
   "metadata": {},
   "outputs": [],
   "source": [
    "def vect(seq, dim=10000):\n",
    "    x=np.zeros((len(seq),dim))\n",
    "    for n, i in enumerate(seq):\n",
    "        x[n, i] = 1\n",
    "    return x\n",
    "\n",
    "X_train=vect(X)\n",
    "X_test=vect(X_test)"
   ]
  },
  {
   "cell_type": "code",
   "execution_count": 62,
   "metadata": {},
   "outputs": [
    {
     "data": {
      "text/plain": [
       "array([0., 1., 1., ..., 0., 0., 0.])"
      ]
     },
     "execution_count": 62,
     "metadata": {},
     "output_type": "execute_result"
    }
   ],
   "source": [
    "X_train[0]"
   ]
  },
  {
   "cell_type": "code",
   "execution_count": 63,
   "metadata": {},
   "outputs": [
    {
     "name": "stdout",
     "output_type": "stream",
     "text": [
      "Epoch 1/5\n",
      "118/118 [==============================] - 1s 9ms/step - loss: 0.5801 - acc: 0.6877 - val_loss: 0.3788 - val_acc: 0.8708\n",
      "Epoch 2/5\n",
      "118/118 [==============================] - 1s 6ms/step - loss: 0.3750 - acc: 0.8545 - val_loss: 0.2930 - val_acc: 0.8857\n",
      "Epoch 3/5\n",
      "118/118 [==============================] - 1s 6ms/step - loss: 0.2785 - acc: 0.9003 - val_loss: 0.2775 - val_acc: 0.8862\n",
      "Epoch 4/5\n",
      "118/118 [==============================] - 1s 6ms/step - loss: 0.2213 - acc: 0.9221 - val_loss: 0.3077 - val_acc: 0.8810\n",
      "Epoch 5/5\n",
      "118/118 [==============================] - 1s 6ms/step - loss: 0.1802 - acc: 0.9363 - val_loss: 0.3113 - val_acc: 0.8846\n"
     ]
    }
   ],
   "source": [
    "net = models.Sequential()\n",
    "net.add(layers.Dense(16, activation='relu', input_shape=(10000,)))\n",
    "net.add(layers.Dropout(0.5))\n",
    "net.add(layers.Dense(16, activation='relu'))\n",
    "net.add(layers.Dropout(0.5))\n",
    "net.add(layers.Dense(1, activation='sigmoid'))\n",
    "net.compile(optimizer='nadam', loss='binary_crossentropy', metrics = ['acc'])\n",
    "\n",
    "X_val = X_train[:10000]\n",
    "partial_X_train = X_train[10000:]\n",
    "\n",
    "y_val = y_train[:10000]\n",
    "partial_y_train = y_train[10000:]\n",
    "\n",
    "val = net.fit(partial_X_train, partial_y_train, epochs=5, batch_size=128, validation_data=(X_val, y_val))"
   ]
  },
  {
   "cell_type": "code",
   "execution_count": 64,
   "metadata": {},
   "outputs": [
    {
     "data": {
      "text/plain": [
       "[<matplotlib.lines.Line2D at 0x29e1c7af1f0>]"
      ]
     },
     "execution_count": 64,
     "metadata": {},
     "output_type": "execute_result"
    },
    {
     "data": {
      "image/png": "[encoded data removed]",
      "text/plain": [
       "<Figure size 432x288 with 1 Axes>"
      ]
     },
     "metadata": {
      "needs_background": "light"
     },
     "output_type": "display_data"
    }
   ],
   "source": [
    "val_dict = val.history\n",
    "loss = val_dict['loss']\n",
    "val_loss = val_dict['val_loss']\n",
    "x = np.arange(0,len(loss))\n",
    "\n",
    "plt.plot(x,loss,'-')\n",
    "plt.plot(x,val_loss,'o')"
   ]
  },
  {
   "cell_type": "code",
   "execution_count": 65,
   "metadata": {},
   "outputs": [
    {
     "name": "stdout",
     "output_type": "stream",
     "text": [
      "782/782 [==============================] - 1s 1ms/step - loss: 0.3344 - acc: 0.8763\n"
     ]
    }
   ],
   "source": [
    "test_loss, test_acc = net.evaluate(X_test,y_test)"
   ]
  },
  {
   "cell_type": "markdown",
   "metadata": {},
   "source": [
    "# IMDB Classification using simple RNN"
   ]
  },
  {
   "cell_type": "code",
   "execution_count": 66,
   "metadata": {},
   "outputs": [],
   "source": [
    "from keras.preprocessing import sequence\n",
    "\n",
    "max_words=10000 \n",
    "(X_train, y_train), (X_test, y_test) = imdb.load_data(num_words=max_words)\n",
    "\n",
    "maxlen = 100 # sequence length\n",
    "X_train = sequence.pad_sequences(X_train, maxlen=maxlen)\n",
    "X_test = sequence.pad_sequences(X_test, maxlen=maxlen)"
   ]
  },
  {
   "cell_type": "code",
   "execution_count": 67,
   "metadata": {},
   "outputs": [
    {
     "data": {
      "text/plain": [
       "array([1415,   33,    6,   22,   12,  215,   28,   77,   52,    5,   14,\n",
       "        407,   16,   82,    2,    8,    4,  107,  117, 5952,   15,  256,\n",
       "          4,    2,    7, 3766,    5,  723,   36,   71,   43,  530,  476,\n",
       "         26,  400,  317,   46,    7,    4,    2, 1029,   13,  104,   88,\n",
       "          4,  381,   15,  297,   98,   32, 2071,   56,   26,  141,    6,\n",
       "        194, 7486,   18,    4,  226,   22,   21,  134,  476,   26,  480,\n",
       "          5,  144,   30, 5535,   18,   51,   36,   28,  224,   92,   25,\n",
       "        104,    4,  226,   65,   16,   38, 1334,   88,   12,   16,  283,\n",
       "          5,   16, 4472,  113,  103,   32,   15,   16, 5345,   19,  178,\n",
       "         32])"
      ]
     },
     "execution_count": 67,
     "metadata": {},
     "output_type": "execute_result"
    }
   ],
   "source": [
    "X_train[0]"
   ]
  },
  {
   "cell_type": "code",
   "execution_count": 68,
   "metadata": {},
   "outputs": [],
   "source": [
    "rnn = models.Sequential()\n",
    "rnn.add(layers.Embedding(max_words, 16)) # 각각의 단어를 n=16 차원 공간에 올리기\n",
    "rnn.add(layers.SimpleRNN(32,return_sequences='True'))"
   ]
  },
  {
   "cell_type": "code",
   "execution_count": 69,
   "metadata": {},
   "outputs": [
    {
     "name": "stdout",
     "output_type": "stream",
     "text": [
      "Model: \"sequential_3\"\n",
      "_________________________________________________________________\n",
      "Layer (type)                 Output Shape              Param #   \n",
      "=================================================================\n",
      "embedding_1 (Embedding)      (None, None, 16)          160000    \n",
      "_________________________________________________________________\n",
      "simple_rnn_1 (SimpleRNN)     (None, None, 32)          1568      \n",
      "=================================================================\n",
      "Total params: 161,568\n",
      "Trainable params: 161,568\n",
      "Non-trainable params: 0\n",
      "_________________________________________________________________\n"
     ]
    }
   ],
   "source": [
    "rnn.summary()"
   ]
  },
  {
   "cell_type": "code",
   "execution_count": 70,
   "metadata": {},
   "outputs": [
    {
     "data": {
      "text/plain": [
       "1"
      ]
     },
     "execution_count": 70,
     "metadata": {},
     "output_type": "execute_result"
    }
   ],
   "source": [
    "y_train[0]"
   ]
  },
  {
   "cell_type": "code",
   "execution_count": 80,
   "metadata": {},
   "outputs": [
    {
     "data": {
      "text/plain": [
       "array([   0,    0,    0,    0,    0,    0,    0,    0,    0,    0,    0,\n",
       "          0,    0,    0,    0,    0,    0,    0,    0,    0,    0,    0,\n",
       "          0,    0,    0,    0,    0,    0,    0,    0,    0,    0,    1,\n",
       "        591,  202,   14,   31,    6,  717,   10,   10,    2,    2,    5,\n",
       "          4,  360,    7,    4,  177, 5760,  394,  354,    4,  123,    9,\n",
       "       1035, 1035, 1035,   10,   10,   13,   92,  124,   89,  488, 7944,\n",
       "        100,   28, 1668,   14,   31,   23,   27, 7479,   29,  220,  468,\n",
       "          8,  124,   14,  286,  170,    8,  157,   46,    5,   27,  239,\n",
       "         16,  179,    2,   38,   32,   25, 7944,  451,  202,   14,    6,\n",
       "        717])"
      ]
     },
     "execution_count": 80,
     "metadata": {},
     "output_type": "execute_result"
    }
   ],
   "source": [
    "X_test[0]"
   ]
  },
  {
   "cell_type": "code",
   "execution_count": 87,
   "metadata": {},
   "outputs": [
    {
     "name": "stdout",
     "output_type": "stream",
     "text": [
      "Note: you may need to restart the kernel to use updated packages.\n"
     ]
    }
   ],
   "source": [
    "pip install -q tensorflow_datasets"
   ]
  },
  {
   "cell_type": "code",
   "execution_count": 88,
   "metadata": {},
   "outputs": [],
   "source": [
    "import numpy as np\n",
    "\n",
    "import tensorflow_datasets as tfds\n",
    "import tensorflow as tf\n",
    "\n",
    "tfds.disable_progress_bar()"
   ]
  },
  {
   "cell_type": "code",
   "execution_count": 89,
   "metadata": {},
   "outputs": [],
   "source": [
    "import matplotlib.pyplot as plt\n",
    "\n",
    "def plot_graphs(history, metric):\n",
    "  plt.plot(history.history[metric])\n",
    "  plt.plot(history.history['val_'+metric], '')\n",
    "  plt.xlabel(\"Epochs\")\n",
    "  plt.ylabel(metric)\n",
    "  plt.legend([metric, 'val_'+metric])"
   ]
  },
  {
   "cell_type": "code",
   "execution_count": 90,
   "metadata": {},
   "outputs": [
    {
     "name": "stdout",
     "output_type": "stream",
     "text": [
      "\u001b[1mDownloading and preparing dataset imdb_reviews/plain_text/1.0.0 (download: Unknown size, generated: Unknown size, total: Unknown size) to C:\\Users\\YULKIM\\tensorflow_datasets\\imdb_reviews\\plain_text\\1.0.0...\u001b[0m\n",
      "Shuffling and writing examples to C:\\/Users/YULKIM/tensorflow_datasets/imdb_reviews/plain_text/1.0.0.incompleteHI61KU/imdb_reviews-train.tfrecord\n",
      "Shuffling and writing examples to C:\\/Users/YULKIM/tensorflow_datasets/imdb_reviews/plain_text/1.0.0.incompleteHI61KU/imdb_reviews-test.tfrecord\n",
      "Shuffling and writing examples to C:\\/Users/YULKIM/tensorflow_datasets/imdb_reviews/plain_text/1.0.0.incompleteHI61KU/imdb_reviews-unsupervised.tfrecord\n",
      "\u001b[1mDataset imdb_reviews downloaded and prepared to C:\\Users\\YULKIM\\tensorflow_datasets\\imdb_reviews\\plain_text\\1.0.0. Subsequent calls will reuse this data.\u001b[0m\n"
     ]
    },
    {
     "data": {
      "text/plain": [
       "(TensorSpec(shape=(), dtype=tf.string, name=None),\n",
       " TensorSpec(shape=(), dtype=tf.int64, name=None))"
      ]
     },
     "execution_count": 90,
     "metadata": {},
     "output_type": "execute_result"
    }
   ],
   "source": [
    "dataset, info = tfds.load('imdb_reviews', with_info=True,\n",
    "                          as_supervised=True)\n",
    "train_dataset, test_dataset = dataset['train'], dataset['test']\n",
    "\n",
    "train_dataset.element_spec"
   ]
  },
  {
   "cell_type": "code",
   "execution_count": 91,
   "metadata": {},
   "outputs": [
    {
     "name": "stdout",
     "output_type": "stream",
     "text": [
      "text:  b\"This was an absolutely terrible movie. Don't be lured in by Christopher Walken or Michael Ironside. Both are great actors, but this must simply be their worst role in history. Even their great acting could not redeem this movie's ridiculous storyline. This movie is an early nineties US propaganda piece. The most pathetic scenes were those when the Columbian rebels were making their cases for revolutions. Maria Conchita Alonso appeared phony, and her pseudo-love affair with Walken was nothing but a pathetic emotional plug in a movie that was devoid of any real meaning. I am disappointed that there are movies like this, ruining actor's like Christopher Walken's good name. I could barely sit through it.\"\n",
      "label:  0\n"
     ]
    }
   ],
   "source": [
    "for example, label in train_dataset.take(1):\n",
    "  print('text: ', example.numpy())\n",
    "  print('label: ', label.numpy())"
   ]
  },
  {
   "cell_type": "code",
   "execution_count": 92,
   "metadata": {},
   "outputs": [],
   "source": [
    "BUFFER_SIZE = 10000\n",
    "BATCH_SIZE = 64"
   ]
  },
  {
   "cell_type": "code",
   "execution_count": 93,
   "metadata": {},
   "outputs": [],
   "source": [
    "train_dataset = train_dataset.shuffle(BUFFER_SIZE).batch(BATCH_SIZE).prefetch(tf.data.experimental.AUTOTUNE)\n",
    "test_dataset = test_dataset.batch(BATCH_SIZE).prefetch(tf.data.experimental.AUTOTUNE)"
   ]
  },
  {
   "cell_type": "code",
   "execution_count": 94,
   "metadata": {},
   "outputs": [
    {
     "name": "stdout",
     "output_type": "stream",
     "text": [
      "texts:  [b\"Los Debutantes is the story of two orphaned brothers who have moved to Santiago from the South after their mother dies. The confident and streetwise Silvio, the elder brother, gets a job working for a sleazy strip club's owner after taking the naive Victor there for his 17th birthday.<br /><br />As Silvio blossoms under his boss's tutelage, both brothers get involved with the owner's sexy and manipulative mistress, Gracia. As the film unfolds, characters are redefined as we begin to see the subtle and overt ways that each one manipulates the next.<br /><br />The film is well made, with good cinematography and fast pacing. It's also pretty sexy, with a lot of nudity and some fairly explicit sex scenes. It uses the now-popular technique of layering different scenes from different points of view, out of chronological sequence. Many people hate movies like this because they don't understand what's going on - Memento, Pulp Fiction, Reservoir Dogs, and many other good films use this device. The plot itself is really nothing new, there are elements of Body Heat, Pulp Fiction, and many other good film noir.<br /><br />As the different layers are revealed, our understandings of the characters and their motivations evolve. While the plot may be somewhat clich\\xc3\\xa9, it is also clever and entertaining.<br /><br />I would call it an enjoyable movie, worth watching, but nothing memorable. I haven't seen many films from Chile, and it's always interesting to see film noir from other countries. Other than that, rent it if it's available but don't lose any sleep if it isn't.\"\n",
      " b\"The best film about marriage and family. This is a very interesting reflections to the couples that will be come to the dangerous and paradoxical fascinating world of marriage and family. This decision could be the better or the worst in our lives and the life of our kids. The real intrusion or help of 'friends' -or executioner if we leave-. The real role of families: they can help or they can destroy us. The mad priest who possibly is not much mad telling what could happen according the statistics and the reality. A couple who thinks in a 'special' marriage, live a painful story in their future own history.<br /><br />Who likes contract marriage? Nobody, after the priest tells their own history\\xc2\\x85 if they leave the future in another hands, if they don't know WHAT is the marriage. That the problems are true, that the life demand a real engage, guaranties, from each one. That the real victims of the divorce are kids, with real name \\xc2\\x96Andrea in the film- or names. That the abortion is only an easy exit: sadness, regrets and unhappiness will be there after abortion. That the state and social security thinks every time less in a real problems of the families. The gossip of the 'friends', the infidelity because of weakness and desperation of Steffania because Tomasso lives his life as if he were alone.<br /><br />Maybe someone could think that this film is a pessimistic film, but not. Steffania and Tomasso, in the deep of their hearts, they like a beautiful marriage and family, if not, Why they like marriage? A truly and beautiful marriage depends only of the couple: of each one of their decisions, of each one actions in their lives. The family could be a place where each one feel loved because being his or her, only by existing. The screenplay is wonderful. The performances are great: Steffania and Tomasso, \\xc2\\xa1the almost cynical priest! An excellent direction and script. The colors and the management of the cameras, superb.\"\n",
      " b\"This movie is pretty cheesy, but I do give it credit for at least trying to provide some characterization for it's principles. There are some great moments in the film and the dialogue has some great moments as well.<br /><br />The aerial assault sequence is perhaps the best part of the movie.<br /><br />I guess I really like the idea of what lengths a veteran will go for a fellow veteran. Sure it's not all that well done, but the premise is not at all bad.<br /><br />Tom\"]\n",
      "\n",
      "labels:  [1 1 1]\n"
     ]
    }
   ],
   "source": [
    "for example, label in train_dataset.take(1):\n",
    "  print('texts: ', example.numpy()[:3])\n",
    "  print()\n",
    "  print('labels: ', label.numpy()[:3])"
   ]
  },
  {
   "cell_type": "code",
   "execution_count": 95,
   "metadata": {},
   "outputs": [],
   "source": [
    "VOCAB_SIZE=1000\n",
    "encoder = tf.keras.layers.experimental.preprocessing.TextVectorization(\n",
    "    max_tokens=VOCAB_SIZE)\n",
    "encoder.adapt(train_dataset.map(lambda text, label: text))"
   ]
  },
  {
   "cell_type": "code",
   "execution_count": 96,
   "metadata": {},
   "outputs": [
    {
     "data": {
      "text/plain": [
       "array(['', '[UNK]', 'the', 'and', 'a', 'of', 'to', 'is', 'in', 'it', 'i',\n",
       "       'this', 'that', 'br', 'was', 'as', 'for', 'with', 'movie', 'but'],\n",
       "      dtype='<U14')"
      ]
     },
     "execution_count": 96,
     "metadata": {},
     "output_type": "execute_result"
    }
   ],
   "source": [
    "vocab = np.array(encoder.get_vocabulary())\n",
    "vocab[:20]"
   ]
  },
  {
   "cell_type": "code",
   "execution_count": 97,
   "metadata": {},
   "outputs": [
    {
     "data": {
      "text/plain": [
       "array([[  1,   1,   7, ...,   0,   0,   0],\n",
       "       [  2, 115,  20, ...,   0,   0,   0],\n",
       "       [ 11,  18,   7, ...,   0,   0,   0]], dtype=int64)"
      ]
     },
     "execution_count": 97,
     "metadata": {},
     "output_type": "execute_result"
    }
   ],
   "source": [
    "encoded_example = encoder(example)[:3].numpy()\n",
    "encoded_example"
   ]
  },
  {
   "cell_type": "code",
   "execution_count": 98,
   "metadata": {},
   "outputs": [
    {
     "name": "stdout",
     "output_type": "stream",
     "text": [
      "Original:  b\"Los Debutantes is the story of two orphaned brothers who have moved to Santiago from the South after their mother dies. The confident and streetwise Silvio, the elder brother, gets a job working for a sleazy strip club's owner after taking the naive Victor there for his 17th birthday.<br /><br />As Silvio blossoms under his boss's tutelage, both brothers get involved with the owner's sexy and manipulative mistress, Gracia. As the film unfolds, characters are redefined as we begin to see the subtle and overt ways that each one manipulates the next.<br /><br />The film is well made, with good cinematography and fast pacing. It's also pretty sexy, with a lot of nudity and some fairly explicit sex scenes. It uses the now-popular technique of layering different scenes from different points of view, out of chronological sequence. Many people hate movies like this because they don't understand what's going on - Memento, Pulp Fiction, Reservoir Dogs, and many other good films use this device. The plot itself is really nothing new, there are elements of Body Heat, Pulp Fiction, and many other good film noir.<br /><br />As the different layers are revealed, our understandings of the characters and their motivations evolve. While the plot may be somewhat clich\\xc3\\xa9, it is also clever and entertaining.<br /><br />I would call it an enjoyable movie, worth watching, but nothing memorable. I haven't seen many films from Chile, and it's always interesting to see film noir from other countries. Other than that, rent it if it's available but don't lose any sleep if it isn't.\"\n",
      "Round-trip:  [UNK] [UNK] is the story of two [UNK] brothers who have [UNK] to [UNK] from the [UNK] after their mother [UNK] the [UNK] and [UNK] [UNK] the [UNK] brother gets a job working for a [UNK] [UNK] [UNK] [UNK] after taking the [UNK] [UNK] there for his [UNK] [UNK] br as [UNK] [UNK] under his [UNK] [UNK] both brothers get involved with the [UNK] [UNK] and [UNK] [UNK] [UNK] as the film [UNK] characters are [UNK] as we begin to see the [UNK] and [UNK] ways that each one [UNK] the [UNK] br the film is well made with good cinematography and fast [UNK] its also pretty [UNK] with a lot of [UNK] and some fairly [UNK] sex scenes it [UNK] the [UNK] [UNK] of [UNK] different scenes from different points of view out of [UNK] sequence many people hate movies like this because they dont understand whats going on [UNK] [UNK] [UNK] [UNK] [UNK] and many other good films use this [UNK] the plot itself is really nothing new there are elements of body [UNK] [UNK] [UNK] and many other good film [UNK] br as the different [UNK] are [UNK] our [UNK] of the characters and their [UNK] [UNK] while the plot may be somewhat [UNK] it is also [UNK] and [UNK] br i would call it an enjoyable movie worth watching but nothing memorable i havent seen many films from [UNK] and its always interesting to see film [UNK] from other [UNK] other than that rent it if its [UNK] but dont [UNK] any [UNK] if it isnt                                                                                                                                                                                                                                                                                                                                                                                                                                                                                                                                          \n",
      "\n",
      "Original:  b\"The best film about marriage and family. This is a very interesting reflections to the couples that will be come to the dangerous and paradoxical fascinating world of marriage and family. This decision could be the better or the worst in our lives and the life of our kids. The real intrusion or help of 'friends' -or executioner if we leave-. The real role of families: they can help or they can destroy us. The mad priest who possibly is not much mad telling what could happen according the statistics and the reality. A couple who thinks in a 'special' marriage, live a painful story in their future own history.<br /><br />Who likes contract marriage? Nobody, after the priest tells their own history\\xc2\\x85 if they leave the future in another hands, if they don't know WHAT is the marriage. That the problems are true, that the life demand a real engage, guaranties, from each one. That the real victims of the divorce are kids, with real name \\xc2\\x96Andrea in the film- or names. That the abortion is only an easy exit: sadness, regrets and unhappiness will be there after abortion. That the state and social security thinks every time less in a real problems of the families. The gossip of the 'friends', the infidelity because of weakness and desperation of Steffania because Tomasso lives his life as if he were alone.<br /><br />Maybe someone could think that this film is a pessimistic film, but not. Steffania and Tomasso, in the deep of their hearts, they like a beautiful marriage and family, if not, Why they like marriage? A truly and beautiful marriage depends only of the couple: of each one of their decisions, of each one actions in their lives. The family could be a place where each one feel loved because being his or her, only by existing. The screenplay is wonderful. The performances are great: Steffania and Tomasso, \\xc2\\xa1the almost cynical priest! An excellent direction and script. The colors and the management of the cameras, superb.\"\n",
      "Round-trip:  the best film about [UNK] and family this is a very interesting [UNK] to the [UNK] that will be come to the [UNK] and [UNK] [UNK] world of [UNK] and family this [UNK] could be the better or the worst in our lives and the life of our kids the real [UNK] or help of friends or [UNK] if we leave the real role of [UNK] they can help or they can [UNK] us the [UNK] [UNK] who possibly is not much [UNK] [UNK] what could happen [UNK] the [UNK] and the reality a couple who [UNK] in a special [UNK] live a [UNK] story in their future own [UNK] br who [UNK] [UNK] [UNK] [UNK] after the [UNK] tells their own [UNK] if they leave the future in another hands if they dont know what is the [UNK] that the problems are true that the life [UNK] a real [UNK] [UNK] from each one that the real [UNK] of the [UNK] are kids with real name [UNK] in the film or [UNK] that the [UNK] is only an easy [UNK] [UNK] [UNK] and [UNK] will be there after [UNK] that the [UNK] and [UNK] [UNK] [UNK] every time less in a real problems of the [UNK] the [UNK] of the friends the [UNK] because of [UNK] and [UNK] of [UNK] because [UNK] lives his life as if he were [UNK] br maybe someone could think that this film is a [UNK] film but not [UNK] and [UNK] in the deep of their [UNK] they like a beautiful [UNK] and family if not why they like [UNK] a truly and beautiful [UNK] [UNK] only of the couple of each one of their [UNK] of each one [UNK] in their lives the family could be a place where each one feel loved because being his or her only by [UNK] the screenplay is wonderful the performances are great [UNK] and [UNK] [UNK] almost [UNK] [UNK] an excellent direction and script the [UNK] and the [UNK] of the [UNK] superb                                                                                                                                                                                                                                                                                                                                                                                                                                                            \n",
      "\n",
      "Original:  b\"This movie is pretty cheesy, but I do give it credit for at least trying to provide some characterization for it's principles. There are some great moments in the film and the dialogue has some great moments as well.<br /><br />The aerial assault sequence is perhaps the best part of the movie.<br /><br />I guess I really like the idea of what lengths a veteran will go for a fellow veteran. Sure it's not all that well done, but the premise is not at all bad.<br /><br />Tom\"\n",
      "Round-trip:  this movie is pretty cheesy but i do give it [UNK] for at least trying to [UNK] some [UNK] for its [UNK] there are some great moments in the film and the dialogue has some great moments as [UNK] br the [UNK] [UNK] sequence is perhaps the best part of the moviebr br i guess i really like the idea of what [UNK] a [UNK] will go for a [UNK] [UNK] sure its not all that well done but the premise is not at all [UNK] br tom                                                                                                                                                                                                                                                                                                                                                                                                                                                                                                                                                                                                                                                                                                                      \n",
      "\n"
     ]
    }
   ],
   "source": [
    "for n in range(3):\n",
    "  print(\"Original: \", example[n].numpy())\n",
    "  print(\"Round-trip: \", \" \".join(vocab[encoded_example[n]]))\n",
    "  print()"
   ]
  },
  {
   "cell_type": "code",
   "execution_count": null,
   "metadata": {},
   "outputs": [],
   "source": []
  }
 ],
 "metadata": {
  "kernelspec": {
   "display_name": "Python 3",
   "language": "python",
   "name": "python3"
  },
  "language_info": {
   "codemirror_mode": {
    "name": "ipython",
    "version": 3
   },
   "file_extension": ".py",
   "mimetype": "text/x-python",
   "name": "python",
   "nbconvert_exporter": "python",
   "pygments_lexer": "ipython3",
   "version": "3.8.3"
  }
 },
 "nbformat": 4,
 "nbformat_minor": 4
}
